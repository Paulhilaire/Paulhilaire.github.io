{
 "cells": [
  {
   "cell_type": "markdown",
   "id": "cef16ec7-8bce-4bfc-b720-2a337b6b115e",
   "metadata": {
    "editable": true,
    "slideshow": {
     "slide_type": "slide"
    },
    "tags": []
   },
   "source": [
    "# Exercises: Look-up table decoders (for small codes)"
   ]
  },
  {
   "cell_type": "markdown",
   "id": "44f36a73-0279-479e-908e-3f831d874c36",
   "metadata": {
    "editable": true,
    "slideshow": {
     "slide_type": ""
    },
    "tags": []
   },
   "source": [
    "## Warm up"
   ]
  },
  {
   "cell_type": "markdown",
   "id": "76b2d9a5",
   "metadata": {},
   "source": [
    "<font color='red'> Write the parity check matrix of the [7, 4, 3] Hamming code <font color='red'>"
   ]
  },
  {
   "cell_type": "markdown",
   "id": "c194cc2b-806b-448a-b234-1568d16cc8c1",
   "metadata": {
    "editable": true,
    "slideshow": {
     "slide_type": ""
    },
    "tags": []
   },
   "source": [
    "<font color='red'>Write a script to produce a lookup table containing all correctable errors and corresponding syndromes for the [7,4,3] Hamming code.<font color='red'>"
   ]
  },
  {
   "cell_type": "markdown",
   "id": "da4c9e4f-5c28-43de-bd87-ceed42e08dff",
   "metadata": {
    "editable": true,
    "slideshow": {
     "slide_type": ""
    },
    "tags": []
   },
   "source": [
    "## Monte Carlo simulation of classical codes"
   ]
  },
  {
   "cell_type": "markdown",
   "id": "5e45aa63-a1eb-4482-8cf9-7bfb03efa77e",
   "metadata": {
    "editable": true,
    "slideshow": {
     "slide_type": ""
    },
    "tags": []
   },
   "source": [
    "<font color='red'> Write a Monte Carlo decoding simulation using a lookup table decoder based on the table constructed in the previous section. To sample errors, use the binary symmetric error channel, where each bit to subject to a bit-flip error with probability $p$."
   ]
  },
  {
   "cell_type": "markdown",
   "id": "91f5c689-8252-4272-acc5-fa831e17278e",
   "metadata": {
    "editable": true,
    "slideshow": {
     "slide_type": ""
    },
    "tags": []
   },
   "source": [
    "<font color='red'>For the Hamming code, create a decoding plot that records the logical error rate (Y-axis) against the physical error rate (X-axis), together with the physical vs physical error rate.."
   ]
  },
  {
   "cell_type": "markdown",
   "id": "15479531-7cee-439a-97ee-e471a1d86e76",
   "metadata": {
    "editable": true,
    "slideshow": {
     "slide_type": ""
    },
    "tags": []
   },
   "source": [
    "<font color='red'>Repeat the steps above to make the same plot for the repetition code of length-7. Compare the two decoding plots."
   ]
  },
  {
   "cell_type": "markdown",
   "id": "fe8b8642",
   "metadata": {},
   "source": [
    "## Threshold behavior"
   ]
  },
  {
   "cell_type": "markdown",
   "id": "5dc33002",
   "metadata": {},
   "source": [
    "<font color='red'> Generalize the look up decoder for the repetition code to arbitrary values odd repetition code length"
   ]
  },
  {
   "cell_type": "markdown",
   "id": "13e0824c",
   "metadata": {},
   "source": [
    "<font color='red'> Do simulations for d= 3,5,7 repetition code (9 if you have enough computing power)"
   ]
  },
  {
   "cell_type": "markdown",
   "id": "faf8bec3",
   "metadata": {},
   "source": [
    "<font color='red'> Bonus: look up decoder for arbitrary perfect codes!"
   ]
  }
 ],
 "metadata": {
  "kernelspec": {
   "display_name": ".venv",
   "language": "python",
   "name": "python3"
  },
  "language_info": {
   "codemirror_mode": {
    "name": "ipython",
    "version": 3
   },
   "file_extension": ".py",
   "mimetype": "text/x-python",
   "name": "python",
   "nbconvert_exporter": "python",
   "pygments_lexer": "ipython3",
   "version": "3.13.7"
  }
 },
 "nbformat": 4,
 "nbformat_minor": 5
}
